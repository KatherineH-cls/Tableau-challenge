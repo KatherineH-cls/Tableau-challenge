{
 "cells": [
  {
   "cell_type": "markdown",
   "metadata": {},
   "source": [
    "### Citibike Analysis"
   ]
  },
  {
   "cell_type": "code",
   "execution_count": 205,
   "metadata": {},
   "outputs": [],
   "source": [
    "# import dependencies\n",
    "import pandas as pd\n",
    "import numpy as np\n",
    "import scipy as sp\n",
    "from sklearn.neighbors import DistanceMetric\n",
    "from math import radians\n",
    "from geopy import distance"
   ]
  },
  {
   "cell_type": "code",
   "execution_count": 206,
   "metadata": {},
   "outputs": [],
   "source": [
    "# filepath to input data\n",
    "filename = '../Resources/data/202109-citibike-tripdata.csv'\n",
    "# filepath to output data\n",
    "fileout_clean = '../Resources/data/202109-citibike-tripdata-clean.csv'\n",
    "fileout_dock = '../Resources/data/202109-citibike-dock.csv'\n",
    "fileout_rebalance = '../Resources/data/202109-citibike-rebalance.csv'\n",
    "fileout_stations = '../Resources/data/202109-citibike-stations.csv'\n"
   ]
  },
  {
   "cell_type": "code",
   "execution_count": 207,
   "metadata": {},
   "outputs": [
    {
     "name": "stderr",
     "output_type": "stream",
     "text": [
      "C:\\Users\\kathe\\anaconda3\\envs\\PythonData\\lib\\site-packages\\IPython\\core\\interactiveshell.py:3072: DtypeWarning: Columns (7) have mixed types.Specify dtype option on import or set low_memory=False.\n",
      "  interactivity=interactivity, compiler=compiler, result=result)\n"
     ]
    }
   ],
   "source": [
    "# read in table\n",
    "bike_data = pd.read_csv(filename)"
   ]
  },
  {
   "cell_type": "code",
   "execution_count": 208,
   "metadata": {},
   "outputs": [],
   "source": [
    "bike_data = bike_data.drop_duplicates()"
   ]
  },
  {
   "cell_type": "code",
   "execution_count": 209,
   "metadata": {},
   "outputs": [],
   "source": [
    "# after preliminary exploration of dataset, decided to drop rows with null values\n",
    "bike_data = bike_data.dropna()"
   ]
  },
  {
   "cell_type": "code",
   "execution_count": 210,
   "metadata": {},
   "outputs": [
    {
     "name": "stdout",
     "output_type": "stream",
     "text": [
      "<class 'pandas.core.frame.DataFrame'>\n",
      "Int64Index: 3264870 entries, 0 to 3280220\n",
      "Data columns (total 13 columns):\n",
      " #   Column              Dtype  \n",
      "---  ------              -----  \n",
      " 0   ride_id             object \n",
      " 1   rideable_type       object \n",
      " 2   started_at          object \n",
      " 3   ended_at            object \n",
      " 4   start_station_name  object \n",
      " 5   start_station_id    float64\n",
      " 6   end_station_name    object \n",
      " 7   end_station_id      object \n",
      " 8   start_lat           float64\n",
      " 9   start_lng           float64\n",
      " 10  end_lat             float64\n",
      " 11  end_lng             float64\n",
      " 12  member_casual       object \n",
      "dtypes: float64(5), object(8)\n",
      "memory usage: 348.7+ MB\n"
     ]
    }
   ],
   "source": [
    "bike_data.info()"
   ]
  },
  {
   "cell_type": "code",
   "execution_count": 211,
   "metadata": {},
   "outputs": [
    {
     "data": {
      "text/html": [
       "<div>\n",
       "<style scoped>\n",
       "    .dataframe tbody tr th:only-of-type {\n",
       "        vertical-align: middle;\n",
       "    }\n",
       "\n",
       "    .dataframe tbody tr th {\n",
       "        vertical-align: top;\n",
       "    }\n",
       "\n",
       "    .dataframe thead th {\n",
       "        text-align: right;\n",
       "    }\n",
       "</style>\n",
       "<table border=\"1\" class=\"dataframe\">\n",
       "  <thead>\n",
       "    <tr style=\"text-align: right;\">\n",
       "      <th></th>\n",
       "      <th>ride_id</th>\n",
       "      <th>rideable_type</th>\n",
       "      <th>started_at</th>\n",
       "      <th>ended_at</th>\n",
       "      <th>start_station_name</th>\n",
       "      <th>start_station_id</th>\n",
       "      <th>end_station_name</th>\n",
       "      <th>end_station_id</th>\n",
       "      <th>start_lat</th>\n",
       "      <th>start_lng</th>\n",
       "      <th>end_lat</th>\n",
       "      <th>end_lng</th>\n",
       "      <th>member_casual</th>\n",
       "    </tr>\n",
       "  </thead>\n",
       "  <tbody>\n",
       "    <tr>\n",
       "      <th>0</th>\n",
       "      <td>22C33F42C6A0E28E</td>\n",
       "      <td>classic_bike</td>\n",
       "      <td>2021-09-01 10:26:45</td>\n",
       "      <td>2021-09-01 10:43:23</td>\n",
       "      <td>Central Park West &amp; W 72 St</td>\n",
       "      <td>7141.07</td>\n",
       "      <td>E 51 St &amp; 1 Ave</td>\n",
       "      <td>6532.06</td>\n",
       "      <td>40.775794</td>\n",
       "      <td>-73.976206</td>\n",
       "      <td>40.754557</td>\n",
       "      <td>-73.965930</td>\n",
       "      <td>member</td>\n",
       "    </tr>\n",
       "    <tr>\n",
       "      <th>2</th>\n",
       "      <td>9C43CF6A07DACBC6</td>\n",
       "      <td>classic_bike</td>\n",
       "      <td>2021-09-06 17:07:40</td>\n",
       "      <td>2021-09-06 17:34:44</td>\n",
       "      <td>Fulton St &amp; Broadway</td>\n",
       "      <td>5175.08</td>\n",
       "      <td>Jay St &amp; Tech Pl</td>\n",
       "      <td>4710.06</td>\n",
       "      <td>40.711066</td>\n",
       "      <td>-74.009447</td>\n",
       "      <td>40.695065</td>\n",
       "      <td>-73.987167</td>\n",
       "      <td>casual</td>\n",
       "    </tr>\n",
       "    <tr>\n",
       "      <th>3</th>\n",
       "      <td>253A1A5B20CC78EE</td>\n",
       "      <td>classic_bike</td>\n",
       "      <td>2021-09-28 16:53:43</td>\n",
       "      <td>2021-09-28 17:03:00</td>\n",
       "      <td>West Drive &amp; Prospect Park West</td>\n",
       "      <td>3651.04</td>\n",
       "      <td>Ocean Pkwy &amp; Church Ave</td>\n",
       "      <td>3125.09</td>\n",
       "      <td>40.661063</td>\n",
       "      <td>-73.979453</td>\n",
       "      <td>40.644719</td>\n",
       "      <td>-73.974515</td>\n",
       "      <td>member</td>\n",
       "    </tr>\n",
       "    <tr>\n",
       "      <th>4</th>\n",
       "      <td>5E8F164D6798CEFA</td>\n",
       "      <td>classic_bike</td>\n",
       "      <td>2021-09-19 09:37:47</td>\n",
       "      <td>2021-09-19 09:53:42</td>\n",
       "      <td>Lorimer St &amp; Broadway</td>\n",
       "      <td>4965.01</td>\n",
       "      <td>Jay St &amp; Tech Pl</td>\n",
       "      <td>4710.06</td>\n",
       "      <td>40.704118</td>\n",
       "      <td>-73.948186</td>\n",
       "      <td>40.695065</td>\n",
       "      <td>-73.987167</td>\n",
       "      <td>member</td>\n",
       "    </tr>\n",
       "    <tr>\n",
       "      <th>5</th>\n",
       "      <td>0702265BE26C21F3</td>\n",
       "      <td>classic_bike</td>\n",
       "      <td>2021-09-23 09:35:32</td>\n",
       "      <td>2021-09-23 09:38:00</td>\n",
       "      <td>William St &amp; Pine St</td>\n",
       "      <td>5065.12</td>\n",
       "      <td>Fulton St &amp; Pearl St</td>\n",
       "      <td>5024.09</td>\n",
       "      <td>40.707179</td>\n",
       "      <td>-74.008873</td>\n",
       "      <td>40.707722</td>\n",
       "      <td>-74.004386</td>\n",
       "      <td>member</td>\n",
       "    </tr>\n",
       "  </tbody>\n",
       "</table>\n",
       "</div>"
      ],
      "text/plain": [
       "            ride_id rideable_type           started_at             ended_at  \\\n",
       "0  22C33F42C6A0E28E  classic_bike  2021-09-01 10:26:45  2021-09-01 10:43:23   \n",
       "2  9C43CF6A07DACBC6  classic_bike  2021-09-06 17:07:40  2021-09-06 17:34:44   \n",
       "3  253A1A5B20CC78EE  classic_bike  2021-09-28 16:53:43  2021-09-28 17:03:00   \n",
       "4  5E8F164D6798CEFA  classic_bike  2021-09-19 09:37:47  2021-09-19 09:53:42   \n",
       "5  0702265BE26C21F3  classic_bike  2021-09-23 09:35:32  2021-09-23 09:38:00   \n",
       "\n",
       "                start_station_name  start_station_id         end_station_name  \\\n",
       "0      Central Park West & W 72 St           7141.07          E 51 St & 1 Ave   \n",
       "2             Fulton St & Broadway           5175.08         Jay St & Tech Pl   \n",
       "3  West Drive & Prospect Park West           3651.04  Ocean Pkwy & Church Ave   \n",
       "4            Lorimer St & Broadway           4965.01         Jay St & Tech Pl   \n",
       "5             William St & Pine St           5065.12     Fulton St & Pearl St   \n",
       "\n",
       "  end_station_id  start_lat  start_lng    end_lat    end_lng member_casual  \n",
       "0        6532.06  40.775794 -73.976206  40.754557 -73.965930        member  \n",
       "2        4710.06  40.711066 -74.009447  40.695065 -73.987167        casual  \n",
       "3        3125.09  40.661063 -73.979453  40.644719 -73.974515        member  \n",
       "4        4710.06  40.704118 -73.948186  40.695065 -73.987167        member  \n",
       "5        5024.09  40.707179 -74.008873  40.707722 -74.004386        member  "
      ]
     },
     "execution_count": 211,
     "metadata": {},
     "output_type": "execute_result"
    }
   ],
   "source": [
    "bike_data.head()"
   ]
  },
  {
   "cell_type": "code",
   "execution_count": 212,
   "metadata": {},
   "outputs": [
    {
     "data": {
      "text/plain": [
       "ride_id               0\n",
       "rideable_type         0\n",
       "started_at            0\n",
       "ended_at              0\n",
       "start_station_name    0\n",
       "start_station_id      0\n",
       "end_station_name      0\n",
       "end_station_id        0\n",
       "start_lat             0\n",
       "start_lng             0\n",
       "end_lat               0\n",
       "end_lng               0\n",
       "member_casual         0\n",
       "dtype: int64"
      ]
     },
     "execution_count": 212,
     "metadata": {},
     "output_type": "execute_result"
    }
   ],
   "source": [
    "bike_data.isna().sum()"
   ]
  },
  {
   "cell_type": "code",
   "execution_count": 213,
   "metadata": {},
   "outputs": [
    {
     "data": {
      "text/plain": [
       "array(['classic_bike', 'docked_bike'], dtype=object)"
      ]
     },
     "execution_count": 213,
     "metadata": {},
     "output_type": "execute_result"
    }
   ],
   "source": [
    "bike_data.iloc[:, 1].unique()"
   ]
  },
  {
   "cell_type": "code",
   "execution_count": 214,
   "metadata": {},
   "outputs": [
    {
     "data": {
      "text/plain": [
       "array(['member', 'casual'], dtype=object)"
      ]
     },
     "execution_count": 214,
     "metadata": {},
     "output_type": "execute_result"
    }
   ],
   "source": [
    "bike_data.iloc[:, 12].unique()"
   ]
  },
  {
   "cell_type": "code",
   "execution_count": 215,
   "metadata": {},
   "outputs": [],
   "source": [
    "# end station ids are mix of numeric and string.  convert all to string\n",
    "bike_data.end_station_id = bike_data.end_station_id.astype(str)\n",
    "bike_data.start_station_id = bike_data.start_station_id.astype(str)"
   ]
  },
  {
   "cell_type": "code",
   "execution_count": 216,
   "metadata": {},
   "outputs": [
    {
     "data": {
      "text/plain": [
       "1595"
      ]
     },
     "execution_count": 216,
     "metadata": {},
     "output_type": "execute_result"
    }
   ],
   "source": [
    "no_stations_end = len(bike_data.end_station_id.unique())\n",
    "no_stations_end\n"
   ]
  },
  {
   "cell_type": "code",
   "execution_count": 217,
   "metadata": {},
   "outputs": [
    {
     "data": {
      "text/plain": [
       "1488"
      ]
     },
     "execution_count": 217,
     "metadata": {},
     "output_type": "execute_result"
    }
   ],
   "source": [
    "no_stations_start = len(bike_data.start_station_id.unique())\n",
    "no_stations_start"
   ]
  },
  {
   "cell_type": "code",
   "execution_count": 218,
   "metadata": {},
   "outputs": [
    {
     "name": "stdout",
     "output_type": "stream",
     "text": [
      "['7849.1', '6948.10', '7932.10', '6364.10', 'JC057', 'JC003', '7845.10', '5247.10', '4095.10', '5854.10', '8249.10', 'HB202', 'SYS033', '6659.10', '6923.20', '5065.10', 'HB203', '7888.10', 'JC104', '5669.10', '4632.10', '7849.10', '7388.10', '8416.10', '7627.10', '7781.10', 'JC038', '8358.10', '8104.10', 'HB404', '5470.10', 'JC072', '4137.10', 'JC013', '6839.10', '5553.10', '5506.10', '5342.10', '5379.10', '8153.10', 'JC052', '7669.10', '5785.10', '7293.10', '7835.10', '4994.10', 'SYS035', '7111.10', 'JC106', '7152.10', 'JC081', 'HB201', 'JC095', '6596.10', '6098.10', '7948.10', '7360.10', 'HB401', 'JC008', '7188.10', '6313.10', '5872.10', 'JC006', '4455.10', '4798.10', '5359.10', 'HB102', '4483.10', '7372.10', 'JC055', '6667.10', 'HB603', 'JC014', 'HB103', '4110.10', '6960.10', 'SYS014', 'JC002', '5332.10', '6893.10', 'HB506', 'JC011', 'JC059', '4404.10', '4249.10', '7596.10', '6498.10', '8049.10', '8107.10', 'JC056', '3834.10', '7910.10', '3981.10', '7756.10', '4157.10', 'HB304', 'JC082', '6723.10', '5137.10', '7265.10', 'HB601', '4821.10', 'HB402', '6740.10', '7386.10', 'JC102', 'HB502', '7837.30', '4432.10']\n"
     ]
    }
   ],
   "source": [
    "# find difference between start and end stations\n",
    "li1=bike_data.start_station_id.unique()\n",
    "li2=bike_data.end_station_id.unique()\n",
    "def Diff(li1, li2):\n",
    "    return list(set(li1) - set(li2)) + list(set(li2) - set(li1))\n",
    "\n",
    "li3 = Diff(li1, li2)\n",
    "print(li3)"
   ]
  },
  {
   "cell_type": "code",
   "execution_count": 219,
   "metadata": {},
   "outputs": [
    {
     "name": "stdout",
     "output_type": "stream",
     "text": [
      "['Grand St', 'Brunswick & 6th', 'McGinley Square', '14 St Ferry - 14 St & Shipyard Ln', 'NYCBS DEPOT - DELANCEY', 'Paulus Hook', 'Pier 40 X2', 'Morris Canal', 'Madison St & 1 St', 'City Hall', 'Church Sq Park - 5 St & Park Ave', 'Liberty Light Rail', 'Marin Light Rail', '8 St & Washington St', 'JC Medical Center', '12 St & Sinatra Dr N', 'Mama Johnson Field - 4 St & Jackson St', 'Bergen Ave', 'Pier 40 Dock Station', 'Manila & 1st', 'Hoboken Terminal - River St & Hudson Pl', 'Columbus Drive', 'Riverview Park', 'Bloomfield St & 15 St', '7 St & Monroe St', 'Newport Pkwy', 'South Waterfront Walkway - Sinatra Dr & 1 St', 'Columbus Dr at Exchange Pl', 'Essex Light Rail', 'Warren St', 'Grand St & 14 St', 'Harborside', '11 St & Washington St', 'Sip Ave', 'Southwest Park - Jackson St & Observer Hwy', 'Heights Elevator']\n"
     ]
    }
   ],
   "source": [
    "# find difference between start and end stations names\n",
    "li1=bike_data.start_station_name.unique()\n",
    "li2=bike_data.end_station_name.unique()\n",
    "def Diff(li1, li2):\n",
    "    return list(set(li1) - set(li2)) + list(set(li2) - set(li1))\n",
    "\n",
    "li3 = Diff(li1, li2)\n",
    "print(li3)"
   ]
  },
  {
   "cell_type": "code",
   "execution_count": 220,
   "metadata": {},
   "outputs": [],
   "source": [
    "# convert times to datetime and calculate trip duration\n",
    "bike_data['start'] = bike_data.started_at.astype('datetime64[ns]')\n",
    "bike_data['end'] = bike_data.ended_at.astype('datetime64[ns]')\n",
    "bike_data['duration'] = (bike_data.end - bike_data.start) / pd.Timedelta(minutes=1)"
   ]
  },
  {
   "cell_type": "code",
   "execution_count": 222,
   "metadata": {},
   "outputs": [
    {
     "data": {
      "text/html": [
       "<div>\n",
       "<style scoped>\n",
       "    .dataframe tbody tr th:only-of-type {\n",
       "        vertical-align: middle;\n",
       "    }\n",
       "\n",
       "    .dataframe tbody tr th {\n",
       "        vertical-align: top;\n",
       "    }\n",
       "\n",
       "    .dataframe thead th {\n",
       "        text-align: right;\n",
       "    }\n",
       "</style>\n",
       "<table border=\"1\" class=\"dataframe\">\n",
       "  <thead>\n",
       "    <tr style=\"text-align: right;\">\n",
       "      <th></th>\n",
       "      <th>ride_id</th>\n",
       "      <th>rideable_type</th>\n",
       "      <th>started_at</th>\n",
       "      <th>ended_at</th>\n",
       "      <th>start_station_name</th>\n",
       "      <th>start_station_id</th>\n",
       "      <th>end_station_name</th>\n",
       "      <th>end_station_id</th>\n",
       "      <th>start_lat</th>\n",
       "      <th>start_lng</th>\n",
       "      <th>end_lat</th>\n",
       "      <th>end_lng</th>\n",
       "      <th>member_casual</th>\n",
       "      <th>start</th>\n",
       "      <th>end</th>\n",
       "      <th>duration</th>\n",
       "    </tr>\n",
       "  </thead>\n",
       "  <tbody>\n",
       "    <tr>\n",
       "      <th>2246</th>\n",
       "      <td>95140F55A2271475</td>\n",
       "      <td>classic_bike</td>\n",
       "      <td>2021-09-29 16:51:29</td>\n",
       "      <td>2021-09-29 16:46:30</td>\n",
       "      <td>8 Ave &amp; W 38 St</td>\n",
       "      <td>6526.05</td>\n",
       "      <td>8 Ave &amp; W 38 St</td>\n",
       "      <td>6526.05</td>\n",
       "      <td>40.754610</td>\n",
       "      <td>-73.991770</td>\n",
       "      <td>40.754610</td>\n",
       "      <td>-73.991770</td>\n",
       "      <td>casual</td>\n",
       "      <td>2021-09-29 16:51:29</td>\n",
       "      <td>2021-09-29 16:46:30</td>\n",
       "      <td>-4.983333</td>\n",
       "    </tr>\n",
       "    <tr>\n",
       "      <th>21912</th>\n",
       "      <td>C4DA56DB93622926</td>\n",
       "      <td>classic_bike</td>\n",
       "      <td>2021-09-29 12:35:38</td>\n",
       "      <td>2021-09-29 12:30:53</td>\n",
       "      <td>E 32 St &amp; Park Ave</td>\n",
       "      <td>6280.12</td>\n",
       "      <td>E 32 St &amp; Park Ave</td>\n",
       "      <td>6280.12</td>\n",
       "      <td>40.745712</td>\n",
       "      <td>-73.981948</td>\n",
       "      <td>40.745712</td>\n",
       "      <td>-73.981948</td>\n",
       "      <td>member</td>\n",
       "      <td>2021-09-29 12:35:38</td>\n",
       "      <td>2021-09-29 12:30:53</td>\n",
       "      <td>-4.750000</td>\n",
       "    </tr>\n",
       "    <tr>\n",
       "      <th>32011</th>\n",
       "      <td>3489D5075B040E7E</td>\n",
       "      <td>classic_bike</td>\n",
       "      <td>2021-09-29 18:55:32</td>\n",
       "      <td>2021-09-29 18:55:30</td>\n",
       "      <td>Rivington St &amp; Ridge St</td>\n",
       "      <td>5406.02</td>\n",
       "      <td>Rivington St &amp; Ridge St</td>\n",
       "      <td>5406.02</td>\n",
       "      <td>40.718502</td>\n",
       "      <td>-73.983299</td>\n",
       "      <td>40.718502</td>\n",
       "      <td>-73.983299</td>\n",
       "      <td>member</td>\n",
       "      <td>2021-09-29 18:55:32</td>\n",
       "      <td>2021-09-29 18:55:30</td>\n",
       "      <td>-0.033333</td>\n",
       "    </tr>\n",
       "    <tr>\n",
       "      <th>43076</th>\n",
       "      <td>B20CAB7799F13747</td>\n",
       "      <td>classic_bike</td>\n",
       "      <td>2021-09-29 18:39:30</td>\n",
       "      <td>2021-09-29 18:39:21</td>\n",
       "      <td>E 2 St &amp; Avenue B</td>\n",
       "      <td>5515.02</td>\n",
       "      <td>E 2 St &amp; Avenue B</td>\n",
       "      <td>5515.02</td>\n",
       "      <td>40.722174</td>\n",
       "      <td>-73.983688</td>\n",
       "      <td>40.722174</td>\n",
       "      <td>-73.983688</td>\n",
       "      <td>casual</td>\n",
       "      <td>2021-09-29 18:39:30</td>\n",
       "      <td>2021-09-29 18:39:21</td>\n",
       "      <td>-0.150000</td>\n",
       "    </tr>\n",
       "    <tr>\n",
       "      <th>43890</th>\n",
       "      <td>801C6F4B5FEB23D4</td>\n",
       "      <td>classic_bike</td>\n",
       "      <td>2021-09-29 16:35:27</td>\n",
       "      <td>2021-09-29 16:24:10</td>\n",
       "      <td>E 16 St &amp; Irving Pl</td>\n",
       "      <td>5938.11</td>\n",
       "      <td>E 16 St &amp; Irving Pl</td>\n",
       "      <td>5938.11</td>\n",
       "      <td>40.735367</td>\n",
       "      <td>-73.987974</td>\n",
       "      <td>40.735367</td>\n",
       "      <td>-73.987974</td>\n",
       "      <td>member</td>\n",
       "      <td>2021-09-29 16:35:27</td>\n",
       "      <td>2021-09-29 16:24:10</td>\n",
       "      <td>-11.283333</td>\n",
       "    </tr>\n",
       "    <tr>\n",
       "      <th>...</th>\n",
       "      <td>...</td>\n",
       "      <td>...</td>\n",
       "      <td>...</td>\n",
       "      <td>...</td>\n",
       "      <td>...</td>\n",
       "      <td>...</td>\n",
       "      <td>...</td>\n",
       "      <td>...</td>\n",
       "      <td>...</td>\n",
       "      <td>...</td>\n",
       "      <td>...</td>\n",
       "      <td>...</td>\n",
       "      <td>...</td>\n",
       "      <td>...</td>\n",
       "      <td>...</td>\n",
       "      <td>...</td>\n",
       "    </tr>\n",
       "    <tr>\n",
       "      <th>3236415</th>\n",
       "      <td>C4CE17D8063B48F3</td>\n",
       "      <td>classic_bike</td>\n",
       "      <td>2021-09-29 17:46:19</td>\n",
       "      <td>2021-09-29 17:46:16</td>\n",
       "      <td>West End Ave &amp; W 60 St</td>\n",
       "      <td>7059.08</td>\n",
       "      <td>West End Ave &amp; W 60 St</td>\n",
       "      <td>7059.08</td>\n",
       "      <td>40.772370</td>\n",
       "      <td>-73.990050</td>\n",
       "      <td>40.772370</td>\n",
       "      <td>-73.990050</td>\n",
       "      <td>casual</td>\n",
       "      <td>2021-09-29 17:46:19</td>\n",
       "      <td>2021-09-29 17:46:16</td>\n",
       "      <td>-0.050000</td>\n",
       "    </tr>\n",
       "    <tr>\n",
       "      <th>3237195</th>\n",
       "      <td>E8B7650D0C60D943</td>\n",
       "      <td>classic_bike</td>\n",
       "      <td>2021-09-29 18:28:07</td>\n",
       "      <td>2021-09-29 18:25:12</td>\n",
       "      <td>West End Ave &amp; W 60 St</td>\n",
       "      <td>7059.08</td>\n",
       "      <td>West End Ave &amp; W 60 St</td>\n",
       "      <td>7059.08</td>\n",
       "      <td>40.772370</td>\n",
       "      <td>-73.990050</td>\n",
       "      <td>40.772370</td>\n",
       "      <td>-73.990050</td>\n",
       "      <td>member</td>\n",
       "      <td>2021-09-29 18:28:07</td>\n",
       "      <td>2021-09-29 18:25:12</td>\n",
       "      <td>-2.916667</td>\n",
       "    </tr>\n",
       "    <tr>\n",
       "      <th>3260672</th>\n",
       "      <td>F1890B88EF00C349</td>\n",
       "      <td>classic_bike</td>\n",
       "      <td>2021-09-29 18:51:47</td>\n",
       "      <td>2021-09-29 18:51:46</td>\n",
       "      <td>10 Ave &amp; W 28 St</td>\n",
       "      <td>6459.04</td>\n",
       "      <td>10 Ave &amp; W 28 St</td>\n",
       "      <td>6459.04</td>\n",
       "      <td>40.750664</td>\n",
       "      <td>-74.001768</td>\n",
       "      <td>40.750664</td>\n",
       "      <td>-74.001768</td>\n",
       "      <td>member</td>\n",
       "      <td>2021-09-29 18:51:47</td>\n",
       "      <td>2021-09-29 18:51:46</td>\n",
       "      <td>-0.016667</td>\n",
       "    </tr>\n",
       "    <tr>\n",
       "      <th>3263018</th>\n",
       "      <td>7394B85BB00FF969</td>\n",
       "      <td>classic_bike</td>\n",
       "      <td>2021-09-29 17:06:01</td>\n",
       "      <td>2021-09-29 16:58:36</td>\n",
       "      <td>10 Ave &amp; W 28 St</td>\n",
       "      <td>6459.04</td>\n",
       "      <td>10 Ave &amp; W 28 St</td>\n",
       "      <td>6459.04</td>\n",
       "      <td>40.750664</td>\n",
       "      <td>-74.001768</td>\n",
       "      <td>40.750664</td>\n",
       "      <td>-74.001768</td>\n",
       "      <td>casual</td>\n",
       "      <td>2021-09-29 17:06:01</td>\n",
       "      <td>2021-09-29 16:58:36</td>\n",
       "      <td>-7.416667</td>\n",
       "    </tr>\n",
       "    <tr>\n",
       "      <th>3263046</th>\n",
       "      <td>4A58AFBA3842FAD7</td>\n",
       "      <td>classic_bike</td>\n",
       "      <td>2021-09-29 15:55:14</td>\n",
       "      <td>2021-09-29 15:52:15</td>\n",
       "      <td>Broadway &amp; W 53 St</td>\n",
       "      <td>6779.05</td>\n",
       "      <td>Broadway &amp; W 53 St</td>\n",
       "      <td>6779.05</td>\n",
       "      <td>40.763441</td>\n",
       "      <td>-73.982681</td>\n",
       "      <td>40.763441</td>\n",
       "      <td>-73.982681</td>\n",
       "      <td>casual</td>\n",
       "      <td>2021-09-29 15:55:14</td>\n",
       "      <td>2021-09-29 15:52:15</td>\n",
       "      <td>-2.983333</td>\n",
       "    </tr>\n",
       "  </tbody>\n",
       "</table>\n",
       "<p>239 rows × 16 columns</p>\n",
       "</div>"
      ],
      "text/plain": [
       "                  ride_id rideable_type           started_at  \\\n",
       "2246     95140F55A2271475  classic_bike  2021-09-29 16:51:29   \n",
       "21912    C4DA56DB93622926  classic_bike  2021-09-29 12:35:38   \n",
       "32011    3489D5075B040E7E  classic_bike  2021-09-29 18:55:32   \n",
       "43076    B20CAB7799F13747  classic_bike  2021-09-29 18:39:30   \n",
       "43890    801C6F4B5FEB23D4  classic_bike  2021-09-29 16:35:27   \n",
       "...                   ...           ...                  ...   \n",
       "3236415  C4CE17D8063B48F3  classic_bike  2021-09-29 17:46:19   \n",
       "3237195  E8B7650D0C60D943  classic_bike  2021-09-29 18:28:07   \n",
       "3260672  F1890B88EF00C349  classic_bike  2021-09-29 18:51:47   \n",
       "3263018  7394B85BB00FF969  classic_bike  2021-09-29 17:06:01   \n",
       "3263046  4A58AFBA3842FAD7  classic_bike  2021-09-29 15:55:14   \n",
       "\n",
       "                    ended_at       start_station_name start_station_id  \\\n",
       "2246     2021-09-29 16:46:30          8 Ave & W 38 St          6526.05   \n",
       "21912    2021-09-29 12:30:53       E 32 St & Park Ave          6280.12   \n",
       "32011    2021-09-29 18:55:30  Rivington St & Ridge St          5406.02   \n",
       "43076    2021-09-29 18:39:21        E 2 St & Avenue B          5515.02   \n",
       "43890    2021-09-29 16:24:10      E 16 St & Irving Pl          5938.11   \n",
       "...                      ...                      ...              ...   \n",
       "3236415  2021-09-29 17:46:16   West End Ave & W 60 St          7059.08   \n",
       "3237195  2021-09-29 18:25:12   West End Ave & W 60 St          7059.08   \n",
       "3260672  2021-09-29 18:51:46         10 Ave & W 28 St          6459.04   \n",
       "3263018  2021-09-29 16:58:36         10 Ave & W 28 St          6459.04   \n",
       "3263046  2021-09-29 15:52:15       Broadway & W 53 St          6779.05   \n",
       "\n",
       "                end_station_name end_station_id  start_lat  start_lng  \\\n",
       "2246             8 Ave & W 38 St        6526.05  40.754610 -73.991770   \n",
       "21912         E 32 St & Park Ave        6280.12  40.745712 -73.981948   \n",
       "32011    Rivington St & Ridge St        5406.02  40.718502 -73.983299   \n",
       "43076          E 2 St & Avenue B        5515.02  40.722174 -73.983688   \n",
       "43890        E 16 St & Irving Pl        5938.11  40.735367 -73.987974   \n",
       "...                          ...            ...        ...        ...   \n",
       "3236415   West End Ave & W 60 St        7059.08  40.772370 -73.990050   \n",
       "3237195   West End Ave & W 60 St        7059.08  40.772370 -73.990050   \n",
       "3260672         10 Ave & W 28 St        6459.04  40.750664 -74.001768   \n",
       "3263018         10 Ave & W 28 St        6459.04  40.750664 -74.001768   \n",
       "3263046       Broadway & W 53 St        6779.05  40.763441 -73.982681   \n",
       "\n",
       "           end_lat    end_lng member_casual               start  \\\n",
       "2246     40.754610 -73.991770        casual 2021-09-29 16:51:29   \n",
       "21912    40.745712 -73.981948        member 2021-09-29 12:35:38   \n",
       "32011    40.718502 -73.983299        member 2021-09-29 18:55:32   \n",
       "43076    40.722174 -73.983688        casual 2021-09-29 18:39:30   \n",
       "43890    40.735367 -73.987974        member 2021-09-29 16:35:27   \n",
       "...            ...        ...           ...                 ...   \n",
       "3236415  40.772370 -73.990050        casual 2021-09-29 17:46:19   \n",
       "3237195  40.772370 -73.990050        member 2021-09-29 18:28:07   \n",
       "3260672  40.750664 -74.001768        member 2021-09-29 18:51:47   \n",
       "3263018  40.750664 -74.001768        casual 2021-09-29 17:06:01   \n",
       "3263046  40.763441 -73.982681        casual 2021-09-29 15:55:14   \n",
       "\n",
       "                        end   duration  \n",
       "2246    2021-09-29 16:46:30  -4.983333  \n",
       "21912   2021-09-29 12:30:53  -4.750000  \n",
       "32011   2021-09-29 18:55:30  -0.033333  \n",
       "43076   2021-09-29 18:39:21  -0.150000  \n",
       "43890   2021-09-29 16:24:10 -11.283333  \n",
       "...                     ...        ...  \n",
       "3236415 2021-09-29 17:46:16  -0.050000  \n",
       "3237195 2021-09-29 18:25:12  -2.916667  \n",
       "3260672 2021-09-29 18:51:46  -0.016667  \n",
       "3263018 2021-09-29 16:58:36  -7.416667  \n",
       "3263046 2021-09-29 15:52:15  -2.983333  \n",
       "\n",
       "[239 rows x 16 columns]"
      ]
     },
     "execution_count": 222,
     "metadata": {},
     "output_type": "execute_result"
    }
   ],
   "source": [
    "bike_data.loc[bike_data.duration < 0]\n",
    "\n"
   ]
  },
  {
   "cell_type": "code",
   "execution_count": 224,
   "metadata": {},
   "outputs": [],
   "source": [
    "# remove rows with duration < 0\n",
    "bike_data = bike_data.loc[bike_data.duration > 0]"
   ]
  },
  {
   "cell_type": "code",
   "execution_count": 226,
   "metadata": {},
   "outputs": [],
   "source": [
    "bike_data.groupby(\"rideable_type\").count()\n",
    "\n",
    "# electric_bike trips are not real and were dropped from dataset when removing null rows#\n",
    "# remove electric bike trips from dataset\n",
    "bike_data = bike_data[bike_data.rideable_type != \"electric_bike\"]"
   ]
  },
  {
   "cell_type": "code",
   "execution_count": 227,
   "metadata": {},
   "outputs": [],
   "source": [
    "# keep only rows where start station id and end station id are numeric\n",
    "# replaced = bike_data.end_station_id.str.replace(\".\", \"\", 1)\n",
    "# check = replaced.str.isdigit()\n",
    "\n",
    "# don't need this anymore as station id method changed\n",
    "# bike_data.loc[bike_data.end_station_id.astype(str).str.replace(\".\",\"\",1).str.isdigit()]\n",
    "# bike_data.loc[~bike_data.end_station_id.astype(str).str.replace(\".\",\"\",1).str.isdigit()]"
   ]
  },
  {
   "cell_type": "code",
   "execution_count": 228,
   "metadata": {},
   "outputs": [],
   "source": [
    "# calculate trip distance\n",
    "\n",
    "# haversine function taken from this page https://stackoverflow.com/questions/29545704/fast-haversine-approximation-python-pandas/29546836#29546836\n",
    "def haversine_np(lon1, lat1, lon2, lat2):\n",
    "    \"\"\"\n",
    "    Calculate the great circle distance between two points\n",
    "    on the earth (specified in decimal degrees)\n",
    "\n",
    "    All args must be of equal length.    \n",
    "\n",
    "    \"\"\"\n",
    "    lon1, lat1, lon2, lat2 = map(np.radians, [lon1, lat1, lon2, lat2])\n",
    "\n",
    "    dlon = lon2 - lon1\n",
    "    dlat = lat2 - lat1\n",
    "\n",
    "    a = np.sin(dlat/2.0)**2 + np.cos(lat1) * np.cos(lat2) * np.sin(dlon/2.0)**2\n",
    "\n",
    "    c = 2 * np.arcsin(np.sqrt(a))\n",
    "    mi = 3798 * c #6367 for km\n",
    "    return mi\n",
    "\n",
    "bike_data['distance_mi'] = haversine_np(bike_data[\"start_lng\"],bike_data[\"start_lat\"],bike_data[\"end_lng\"],bike_data[\"end_lat\"]).round(2)\n",
    "\n",
    "\n"
   ]
  },
  {
   "cell_type": "code",
   "execution_count": 229,
   "metadata": {},
   "outputs": [],
   "source": [
    "# drop start at and end at columns\n",
    "bike_data = bike_data.drop(columns = [\"started_at\", \"ended_at\"], axis = 1)\n"
   ]
  },
  {
   "cell_type": "code",
   "execution_count": 230,
   "metadata": {},
   "outputs": [],
   "source": [
    "# separate by bike type\n",
    "classic = bike_data[bike_data.rideable_type == \"classic_bike\"]\n",
    "docked = bike_data[bike_data.rideable_type == \"docked_bike\"]"
   ]
  },
  {
   "cell_type": "code",
   "execution_count": 231,
   "metadata": {},
   "outputs": [
    {
     "data": {
      "text/html": [
       "<div>\n",
       "<style scoped>\n",
       "    .dataframe tbody tr th:only-of-type {\n",
       "        vertical-align: middle;\n",
       "    }\n",
       "\n",
       "    .dataframe tbody tr th {\n",
       "        vertical-align: top;\n",
       "    }\n",
       "\n",
       "    .dataframe thead th {\n",
       "        text-align: right;\n",
       "    }\n",
       "</style>\n",
       "<table border=\"1\" class=\"dataframe\">\n",
       "  <thead>\n",
       "    <tr style=\"text-align: right;\">\n",
       "      <th></th>\n",
       "      <th>ride_id</th>\n",
       "      <th>start_station_name</th>\n",
       "      <th>start_station_id</th>\n",
       "      <th>end_station_name</th>\n",
       "      <th>end_station_id</th>\n",
       "      <th>start_lat</th>\n",
       "      <th>start_lng</th>\n",
       "      <th>end_lat</th>\n",
       "      <th>end_lng</th>\n",
       "      <th>start</th>\n",
       "      <th>end</th>\n",
       "      <th>duration</th>\n",
       "    </tr>\n",
       "  </thead>\n",
       "  <tbody>\n",
       "    <tr>\n",
       "      <th>196</th>\n",
       "      <td>3841A1A8FD3FEA70</td>\n",
       "      <td>Fulton St &amp; Broadway</td>\n",
       "      <td>5175.08</td>\n",
       "      <td>10 Ave &amp; W 14 St</td>\n",
       "      <td>6157.04</td>\n",
       "      <td>40.711066</td>\n",
       "      <td>-74.009447</td>\n",
       "      <td>40.741982</td>\n",
       "      <td>-74.008316</td>\n",
       "      <td>2021-09-27 15:03:14</td>\n",
       "      <td>2021-09-27 15:29:31</td>\n",
       "      <td>26.283333</td>\n",
       "    </tr>\n",
       "    <tr>\n",
       "      <th>253</th>\n",
       "      <td>50B637E0507DE505</td>\n",
       "      <td>Fulton St &amp; Broadway</td>\n",
       "      <td>5175.08</td>\n",
       "      <td>Broadway &amp; Battery Pl</td>\n",
       "      <td>4962.01</td>\n",
       "      <td>40.711066</td>\n",
       "      <td>-74.009447</td>\n",
       "      <td>40.704633</td>\n",
       "      <td>-74.013617</td>\n",
       "      <td>2021-09-13 11:40:05</td>\n",
       "      <td>2021-09-13 12:17:45</td>\n",
       "      <td>37.666667</td>\n",
       "    </tr>\n",
       "    <tr>\n",
       "      <th>337</th>\n",
       "      <td>61D8BC2A874D9D4D</td>\n",
       "      <td>Concourse Village West &amp; E 156 St</td>\n",
       "      <td>7962.01</td>\n",
       "      <td>Freeman St &amp; Reverend James A Polite Ave</td>\n",
       "      <td>8080.01</td>\n",
       "      <td>40.823162</td>\n",
       "      <td>-73.923267</td>\n",
       "      <td>40.830529</td>\n",
       "      <td>-73.894717</td>\n",
       "      <td>2021-09-21 18:24:25</td>\n",
       "      <td>2021-09-21 18:48:31</td>\n",
       "      <td>24.100000</td>\n",
       "    </tr>\n",
       "    <tr>\n",
       "      <th>462</th>\n",
       "      <td>1C0ACD6BE36AAF4A</td>\n",
       "      <td>West Drive &amp; Prospect Park West</td>\n",
       "      <td>3651.04</td>\n",
       "      <td>Carroll St &amp; Smith St</td>\n",
       "      <td>4225.14</td>\n",
       "      <td>40.661063</td>\n",
       "      <td>-73.979453</td>\n",
       "      <td>40.680611</td>\n",
       "      <td>-73.994758</td>\n",
       "      <td>2021-09-04 13:02:54</td>\n",
       "      <td>2021-09-04 13:18:16</td>\n",
       "      <td>15.366667</td>\n",
       "    </tr>\n",
       "    <tr>\n",
       "      <th>920</th>\n",
       "      <td>629C582C43EFFE3C</td>\n",
       "      <td>West Drive &amp; Prospect Park West</td>\n",
       "      <td>3651.04</td>\n",
       "      <td>Prospect Park West &amp; 8 St</td>\n",
       "      <td>3722.04</td>\n",
       "      <td>40.661063</td>\n",
       "      <td>-73.979453</td>\n",
       "      <td>40.665147</td>\n",
       "      <td>-73.976376</td>\n",
       "      <td>2021-09-16 03:44:18</td>\n",
       "      <td>2021-09-16 03:49:49</td>\n",
       "      <td>5.516667</td>\n",
       "    </tr>\n",
       "  </tbody>\n",
       "</table>\n",
       "</div>"
      ],
      "text/plain": [
       "              ride_id                 start_station_name start_station_id  \\\n",
       "196  3841A1A8FD3FEA70               Fulton St & Broadway          5175.08   \n",
       "253  50B637E0507DE505               Fulton St & Broadway          5175.08   \n",
       "337  61D8BC2A874D9D4D  Concourse Village West & E 156 St          7962.01   \n",
       "462  1C0ACD6BE36AAF4A    West Drive & Prospect Park West          3651.04   \n",
       "920  629C582C43EFFE3C    West Drive & Prospect Park West          3651.04   \n",
       "\n",
       "                             end_station_name end_station_id  start_lat  \\\n",
       "196                          10 Ave & W 14 St        6157.04  40.711066   \n",
       "253                     Broadway & Battery Pl        4962.01  40.711066   \n",
       "337  Freeman St & Reverend James A Polite Ave        8080.01  40.823162   \n",
       "462                     Carroll St & Smith St        4225.14  40.661063   \n",
       "920                 Prospect Park West & 8 St        3722.04  40.661063   \n",
       "\n",
       "     start_lng    end_lat    end_lng               start                 end  \\\n",
       "196 -74.009447  40.741982 -74.008316 2021-09-27 15:03:14 2021-09-27 15:29:31   \n",
       "253 -74.009447  40.704633 -74.013617 2021-09-13 11:40:05 2021-09-13 12:17:45   \n",
       "337 -73.923267  40.830529 -73.894717 2021-09-21 18:24:25 2021-09-21 18:48:31   \n",
       "462 -73.979453  40.680611 -73.994758 2021-09-04 13:02:54 2021-09-04 13:18:16   \n",
       "920 -73.979453  40.665147 -73.976376 2021-09-16 03:44:18 2021-09-16 03:49:49   \n",
       "\n",
       "      duration  \n",
       "196  26.283333  \n",
       "253  37.666667  \n",
       "337  24.100000  \n",
       "462  15.366667  \n",
       "920   5.516667  "
      ]
     },
     "execution_count": 231,
     "metadata": {},
     "output_type": "execute_result"
    }
   ],
   "source": [
    "docked = docked[['ride_id', 'start_station_name', 'start_station_id',\n",
    "       'end_station_name', 'end_station_id', 'start_lat', 'start_lng',\n",
    "       'end_lat', 'end_lng',  'start', 'end', 'duration',\n",
    "       ]]\n",
    "docked.head()"
   ]
  },
  {
   "cell_type": "code",
   "execution_count": 232,
   "metadata": {},
   "outputs": [
    {
     "name": "stderr",
     "output_type": "stream",
     "text": [
      "C:\\Users\\kathe\\anaconda3\\envs\\PythonData\\lib\\site-packages\\ipykernel_launcher.py:2: SettingWithCopyWarning: \n",
      "A value is trying to be set on a copy of a slice from a DataFrame.\n",
      "Try using .loc[row_indexer,col_indexer] = value instead\n",
      "\n",
      "See the caveats in the documentation: https://pandas.pydata.org/pandas-docs/stable/user_guide/indexing.html#returning-a-view-versus-a-copy\n",
      "  \n"
     ]
    }
   ],
   "source": [
    "# extract date portion of datetime\n",
    "classic[\"start_date\"] = pd.to_datetime(classic.start).dt.normalize()\n",
    "\n"
   ]
  },
  {
   "cell_type": "code",
   "execution_count": 233,
   "metadata": {},
   "outputs": [
    {
     "name": "stdout",
     "output_type": "stream",
     "text": [
      "<class 'pandas.core.frame.DataFrame'>\n",
      "Int64Index: 3231239 entries, 0 to 3280220\n",
      "Data columns (total 16 columns):\n",
      " #   Column              Dtype         \n",
      "---  ------              -----         \n",
      " 0   ride_id             object        \n",
      " 1   rideable_type       object        \n",
      " 2   start_station_name  object        \n",
      " 3   start_station_id    object        \n",
      " 4   end_station_name    object        \n",
      " 5   end_station_id      object        \n",
      " 6   start_lat           float64       \n",
      " 7   start_lng           float64       \n",
      " 8   end_lat             float64       \n",
      " 9   end_lng             float64       \n",
      " 10  member_casual       object        \n",
      " 11  start               datetime64[ns]\n",
      " 12  end                 datetime64[ns]\n",
      " 13  duration            float64       \n",
      " 14  distance_mi         float64       \n",
      " 15  start_date          datetime64[ns]\n",
      "dtypes: datetime64[ns](3), float64(6), object(7)\n",
      "memory usage: 419.1+ MB\n"
     ]
    }
   ],
   "source": [
    "classic.info()"
   ]
  },
  {
   "cell_type": "code",
   "execution_count": 234,
   "metadata": {},
   "outputs": [],
   "source": [
    "# count number of starts from each station for each day\n",
    "classic_starts = classic.groupby([\"start_date\", \"start_station_name\"])[\"ride_id\"].count()\n",
    "classic_starts = classic_starts.reset_index([\"start_date\", \"start_station_name\"])\n",
    "classic_starts = classic_starts.rename(columns={\"start_date\":\"date\", \"start_station_name\":\"station_name\", \"ride_id\":\"count_starts\"})\n"
   ]
  },
  {
   "cell_type": "code",
   "execution_count": 235,
   "metadata": {},
   "outputs": [],
   "source": [
    "# count number of ends each station for each day\n",
    "classic_ends = classic.groupby([\"start_date\", \"end_station_name\"])[\"ride_id\"].count()\n",
    "classic_ends = classic_ends.reset_index([\"start_date\", \"end_station_name\"])\n",
    "classic_ends = classic_ends.rename(columns={\"start_date\":\"date\", \"end_station_name\":\"station_name\", \"ride_id\":\"count_ends\"})"
   ]
  },
  {
   "cell_type": "code",
   "execution_count": 236,
   "metadata": {},
   "outputs": [
    {
     "data": {
      "text/html": [
       "<div>\n",
       "<style scoped>\n",
       "    .dataframe tbody tr th:only-of-type {\n",
       "        vertical-align: middle;\n",
       "    }\n",
       "\n",
       "    .dataframe tbody tr th {\n",
       "        vertical-align: top;\n",
       "    }\n",
       "\n",
       "    .dataframe thead th {\n",
       "        text-align: right;\n",
       "    }\n",
       "</style>\n",
       "<table border=\"1\" class=\"dataframe\">\n",
       "  <thead>\n",
       "    <tr style=\"text-align: right;\">\n",
       "      <th></th>\n",
       "      <th>date</th>\n",
       "      <th>station_name</th>\n",
       "      <th>count_ends</th>\n",
       "    </tr>\n",
       "  </thead>\n",
       "  <tbody>\n",
       "    <tr>\n",
       "      <th>0</th>\n",
       "      <td>2021-09-01</td>\n",
       "      <td>1 Ave &amp; E 110 St</td>\n",
       "      <td>48</td>\n",
       "    </tr>\n",
       "    <tr>\n",
       "      <th>1</th>\n",
       "      <td>2021-09-01</td>\n",
       "      <td>1 Ave &amp; E 16 St</td>\n",
       "      <td>165</td>\n",
       "    </tr>\n",
       "    <tr>\n",
       "      <th>2</th>\n",
       "      <td>2021-09-01</td>\n",
       "      <td>1 Ave &amp; E 18 St</td>\n",
       "      <td>126</td>\n",
       "    </tr>\n",
       "    <tr>\n",
       "      <th>3</th>\n",
       "      <td>2021-09-01</td>\n",
       "      <td>1 Ave &amp; E 30 St</td>\n",
       "      <td>80</td>\n",
       "    </tr>\n",
       "    <tr>\n",
       "      <th>4</th>\n",
       "      <td>2021-09-01</td>\n",
       "      <td>1 Ave &amp; E 39 St</td>\n",
       "      <td>126</td>\n",
       "    </tr>\n",
       "    <tr>\n",
       "      <th>...</th>\n",
       "      <td>...</td>\n",
       "      <td>...</td>\n",
       "      <td>...</td>\n",
       "    </tr>\n",
       "    <tr>\n",
       "      <th>43711</th>\n",
       "      <td>2021-09-30</td>\n",
       "      <td>Wyckoff Av &amp; Stanhope St</td>\n",
       "      <td>59</td>\n",
       "    </tr>\n",
       "    <tr>\n",
       "      <th>43712</th>\n",
       "      <td>2021-09-30</td>\n",
       "      <td>Wyckoff Ave &amp; Gates Ave</td>\n",
       "      <td>46</td>\n",
       "    </tr>\n",
       "    <tr>\n",
       "      <th>43713</th>\n",
       "      <td>2021-09-30</td>\n",
       "      <td>Wyckoff St &amp; Nevins St</td>\n",
       "      <td>22</td>\n",
       "    </tr>\n",
       "    <tr>\n",
       "      <th>43714</th>\n",
       "      <td>2021-09-30</td>\n",
       "      <td>Wythe Ave &amp; Metropolitan Ave</td>\n",
       "      <td>219</td>\n",
       "    </tr>\n",
       "    <tr>\n",
       "      <th>43715</th>\n",
       "      <td>2021-09-30</td>\n",
       "      <td>Yankee Ferry Terminal</td>\n",
       "      <td>4</td>\n",
       "    </tr>\n",
       "  </tbody>\n",
       "</table>\n",
       "<p>43716 rows × 3 columns</p>\n",
       "</div>"
      ],
      "text/plain": [
       "            date                  station_name  count_ends\n",
       "0     2021-09-01              1 Ave & E 110 St          48\n",
       "1     2021-09-01               1 Ave & E 16 St         165\n",
       "2     2021-09-01               1 Ave & E 18 St         126\n",
       "3     2021-09-01               1 Ave & E 30 St          80\n",
       "4     2021-09-01               1 Ave & E 39 St         126\n",
       "...          ...                           ...         ...\n",
       "43711 2021-09-30      Wyckoff Av & Stanhope St          59\n",
       "43712 2021-09-30       Wyckoff Ave & Gates Ave          46\n",
       "43713 2021-09-30        Wyckoff St & Nevins St          22\n",
       "43714 2021-09-30  Wythe Ave & Metropolitan Ave         219\n",
       "43715 2021-09-30         Yankee Ferry Terminal           4\n",
       "\n",
       "[43716 rows x 3 columns]"
      ]
     },
     "execution_count": 236,
     "metadata": {},
     "output_type": "execute_result"
    }
   ],
   "source": [
    "\n",
    "classic_ends"
   ]
  },
  {
   "cell_type": "code",
   "execution_count": 237,
   "metadata": {},
   "outputs": [],
   "source": [
    "# merge the above 2 tables\n",
    "rebalances = pd.merge(classic_starts, classic_ends, how = \"outer\", left_on=([\"date\", \"station_name\"]), right_on=([\"date\", \"station_name\"]))\n",
    "rebalances = rebalances.fillna(0)\n",
    "rebalances[\"count_rebalance\"] = rebalances.count_ends - rebalances.count_starts\n",
    "# a negative rebalance means that bikes need to be replaced, a positive rebalance means that bikes need to be removed"
   ]
  },
  {
   "cell_type": "code",
   "execution_count": 238,
   "metadata": {},
   "outputs": [
    {
     "data": {
      "text/html": [
       "<div>\n",
       "<style scoped>\n",
       "    .dataframe tbody tr th:only-of-type {\n",
       "        vertical-align: middle;\n",
       "    }\n",
       "\n",
       "    .dataframe tbody tr th {\n",
       "        vertical-align: top;\n",
       "    }\n",
       "\n",
       "    .dataframe thead th {\n",
       "        text-align: right;\n",
       "    }\n",
       "</style>\n",
       "<table border=\"1\" class=\"dataframe\">\n",
       "  <thead>\n",
       "    <tr style=\"text-align: right;\">\n",
       "      <th></th>\n",
       "      <th>date</th>\n",
       "      <th>station_name</th>\n",
       "      <th>count_starts</th>\n",
       "      <th>count_ends</th>\n",
       "      <th>count_rebalance</th>\n",
       "    </tr>\n",
       "  </thead>\n",
       "  <tbody>\n",
       "    <tr>\n",
       "      <th>0</th>\n",
       "      <td>2021-09-01</td>\n",
       "      <td>1 Ave &amp; E 110 St</td>\n",
       "      <td>48.0</td>\n",
       "      <td>48.0</td>\n",
       "      <td>0.0</td>\n",
       "    </tr>\n",
       "    <tr>\n",
       "      <th>1</th>\n",
       "      <td>2021-09-01</td>\n",
       "      <td>1 Ave &amp; E 16 St</td>\n",
       "      <td>185.0</td>\n",
       "      <td>165.0</td>\n",
       "      <td>-20.0</td>\n",
       "    </tr>\n",
       "    <tr>\n",
       "      <th>2</th>\n",
       "      <td>2021-09-01</td>\n",
       "      <td>1 Ave &amp; E 18 St</td>\n",
       "      <td>144.0</td>\n",
       "      <td>126.0</td>\n",
       "      <td>-18.0</td>\n",
       "    </tr>\n",
       "    <tr>\n",
       "      <th>3</th>\n",
       "      <td>2021-09-01</td>\n",
       "      <td>1 Ave &amp; E 30 St</td>\n",
       "      <td>83.0</td>\n",
       "      <td>80.0</td>\n",
       "      <td>-3.0</td>\n",
       "    </tr>\n",
       "    <tr>\n",
       "      <th>4</th>\n",
       "      <td>2021-09-01</td>\n",
       "      <td>1 Ave &amp; E 39 St</td>\n",
       "      <td>125.0</td>\n",
       "      <td>126.0</td>\n",
       "      <td>1.0</td>\n",
       "    </tr>\n",
       "  </tbody>\n",
       "</table>\n",
       "</div>"
      ],
      "text/plain": [
       "        date      station_name  count_starts  count_ends  count_rebalance\n",
       "0 2021-09-01  1 Ave & E 110 St          48.0        48.0              0.0\n",
       "1 2021-09-01   1 Ave & E 16 St         185.0       165.0            -20.0\n",
       "2 2021-09-01   1 Ave & E 18 St         144.0       126.0            -18.0\n",
       "3 2021-09-01   1 Ave & E 30 St          83.0        80.0             -3.0\n",
       "4 2021-09-01   1 Ave & E 39 St         125.0       126.0              1.0"
      ]
     },
     "execution_count": 238,
     "metadata": {},
     "output_type": "execute_result"
    }
   ],
   "source": [
    "rebalances.head()"
   ]
  },
  {
   "cell_type": "code",
   "execution_count": 239,
   "metadata": {},
   "outputs": [
    {
     "data": {
      "text/plain": [
       "Index(['ride_id', 'rideable_type', 'start_station_name', 'start_station_id',\n",
       "       'end_station_name', 'end_station_id', 'start_lat', 'start_lng',\n",
       "       'end_lat', 'end_lng', 'member_casual', 'start', 'end', 'duration',\n",
       "       'distance_mi'],\n",
       "      dtype='object')"
      ]
     },
     "execution_count": 239,
     "metadata": {},
     "output_type": "execute_result"
    }
   ],
   "source": [
    "bike_data.columns"
   ]
  },
  {
   "cell_type": "code",
   "execution_count": 240,
   "metadata": {},
   "outputs": [],
   "source": [
    "# extract station data\n",
    "start_stations = bike_data[['start_station_name', 'start_station_id',\n",
    "        'start_lat', 'start_lng']].drop_duplicates()\n",
    "end_stations = bike_data[['end_station_name', 'end_station_id',\n",
    "        'end_lat', 'end_lng']].drop_duplicates()\n",
    "start_stations = start_stations.rename(columns = ({'start_station_name':'station_name', 'start_station_id':'station_id',\n",
    "        'start_lat':'lat', 'start_lng':'lng'}))\n",
    "end_stations = end_stations.rename(columns = ({'end_station_name':'station_name', 'end_station_id':'station_id',\n",
    "        'end_lat':'lat', 'end_lng':'lng'}))\n",
    "\n"
   ]
  },
  {
   "cell_type": "code",
   "execution_count": 241,
   "metadata": {},
   "outputs": [],
   "source": [
    "stations = pd.concat([start_stations, end_stations], ignore_index = True)\n",
    "stations = stations.drop_duplicates(subset = \"station_id\")"
   ]
  },
  {
   "cell_type": "code",
   "execution_count": 242,
   "metadata": {},
   "outputs": [
    {
     "name": "stdout",
     "output_type": "stream",
     "text": [
      "<class 'pandas.core.frame.DataFrame'>\n",
      "Int64Index: 1596 entries, 0 to 4518\n",
      "Data columns (total 4 columns):\n",
      " #   Column        Non-Null Count  Dtype  \n",
      "---  ------        --------------  -----  \n",
      " 0   station_name  1596 non-null   object \n",
      " 1   station_id    1596 non-null   object \n",
      " 2   lat           1596 non-null   float64\n",
      " 3   lng           1596 non-null   float64\n",
      "dtypes: float64(2), object(2)\n",
      "memory usage: 62.3+ KB\n"
     ]
    }
   ],
   "source": [
    "stations.info()"
   ]
  },
  {
   "cell_type": "code",
   "execution_count": 243,
   "metadata": {},
   "outputs": [],
   "source": [
    "# export tables\n",
    "# bike_data.to_csv(fileout_clean, index=False)\n",
    "docked.to_csv(fileout_dock, index=False)\n",
    "rebalances.to_csv(fileout_rebalance, index=False)\n",
    "stations.to_csv(fileout_stations, index=False)"
   ]
  }
 ],
 "metadata": {
  "interpreter": {
   "hash": "2cb9b7d5b68f4bfebe37bd14371b74a26c7634c91bad2bd7203be20ef753368a"
  },
  "kernelspec": {
   "display_name": "Python 3.6.13 64-bit ('PythonData': conda)",
   "name": "python3"
  },
  "language_info": {
   "codemirror_mode": {
    "name": "ipython",
    "version": 3
   },
   "file_extension": ".py",
   "mimetype": "text/x-python",
   "name": "python",
   "nbconvert_exporter": "python",
   "pygments_lexer": "ipython3",
   "version": "3.6.13"
  },
  "orig_nbformat": 4
 },
 "nbformat": 4,
 "nbformat_minor": 2
}
